{
 "cells": [
  {
   "cell_type": "code",
   "execution_count": 1,
   "metadata": {},
   "outputs": [],
   "source": [
    "import networkx as nx\n",
    "import numpy as np\n",
    "import pandas as pd"
   ]
  },
  {
   "cell_type": "code",
   "execution_count": 2,
   "metadata": {},
   "outputs": [],
   "source": [
    "dG = nx.read_edgelist('./output/edgeListTrackers-filtered2.csv', delimiter=';', create_using=nx.DiGraph())\n",
    "dG\n",
    "G = nx.read_edgelist('./output/edgeListTrackers-filtered2.csv', delimiter=';', create_using=nx.Graph())"
   ]
  },
  {
   "cell_type": "code",
   "execution_count": 3,
   "metadata": {},
   "outputs": [
    {
     "data": {
      "text/plain": [
       "5"
      ]
     },
     "execution_count": 3,
     "metadata": {},
     "output_type": "execute_result"
    }
   ],
   "source": [
    "nx.number_connected_components(G)"
   ]
  },
  {
   "cell_type": "code",
   "execution_count": 4,
   "metadata": {},
   "outputs": [
    {
     "name": "stdout",
     "output_type": "stream",
     "text": [
      "('stats.g.doubleclick.net', 65)\n",
      "('cm.g.doubleclick.net', 41)\n",
      "('securepubads.g.doubleclick.net', 38)\n",
      "('pagead2.googlesyndication.com', 35)\n",
      "('ib.adnxs.com', 29)\n",
      "('cx.atdmt.com', 14)\n",
      "('csi.gstatic.com', 9)\n",
      "('js-agent.newrelic.com', 9)\n",
      "('prebid-eu.creativecdn.com', 9)\n",
      "('ads.yahoo.com', 9)\n",
      "('match.adsby.bidtheatre.com', 7)\n",
      "('csr.onet.pl', 7)\n",
      "('cmp.dreamlab.pl', 6)\n",
      "('sgqcvfjvr.onet.pl', 6)\n",
      "('events.ocdn.eu', 6)\n",
      "('pubads.g.doubleclick.net', 5)\n",
      "('tagger.opecloud.com', 5)\n",
      "('profiles.tagger.opecloud.com', 5)\n",
      "('dot.wp.pl', 5)\n",
      "('d1.abtshield.com', 4)\n",
      "('analytics.twitter.com', 4)\n",
      "('cookiex.ngd.yahoo.com', 4)\n",
      "('mc.yandex.ru', 4)\n",
      "('px.wp.pl', 4)\n",
      "('px.owneriq.net', 3)\n"
     ]
    }
   ],
   "source": [
    "deg_tuples = list(dG.in_degree())\n",
    "for _ in range(25):\n",
    "    degs = [t[1] for t in deg_tuples]\n",
    "    idx = np.argmax(degs)\n",
    "    print(deg_tuples[idx])\n",
    "    del deg_tuples[idx]"
   ]
  },
  {
   "cell_type": "code",
   "execution_count": 6,
   "metadata": {},
   "outputs": [
    {
     "name": "stdout",
     "output_type": "stream",
     "text": [
      "('wiocha.pl', 14)\n",
      "('gumtree.pl', 12)\n",
      "('interia.pl', 11)\n",
      "('tvp.pl', 10)\n",
      "('kwejk.pl', 10)\n",
      "('medonet.pl', 9)\n",
      "('olx.pl', 9)\n",
      "('otomoto.pl', 9)\n",
      "('fakt.pl', 9)\n",
      "('rp.pl', 9)\n",
      "('skapiec.pl', 9)\n",
      "('vod.pl', 9)\n",
      "('pclab.pl', 9)\n",
      "('wyborcza.pl', 8)\n",
      "('mediaexpert.pl', 8)\n",
      "('play.pl', 8)\n",
      "('gazeta.pl', 7)\n",
      "('reddit.com', 7)\n",
      "('wykop.pl', 7)\n",
      "('pl.tripadvisor.com', 7)\n",
      "('allegro.pl', 6)\n",
      "('cda.pl', 6)\n",
      "('microsoft.com', 6)\n",
      "('onet.pl', 6)\n",
      "('niezalezna.pl', 6)\n"
     ]
    }
   ],
   "source": [
    "deg_tuples = list(dG.out_degree())\n",
    "for _ in range(25):\n",
    "    degs = [t[1] for t in deg_tuples]\n",
    "    idx = np.argmax(degs)\n",
    "    print(deg_tuples[idx])\n",
    "    del deg_tuples[idx]"
   ]
  },
  {
   "cell_type": "code",
   "execution_count": 7,
   "metadata": {},
   "outputs": [
    {
     "data": {
      "text/plain": [
       "False"
      ]
     },
     "execution_count": 7,
     "metadata": {},
     "output_type": "execute_result"
    }
   ],
   "source": [
    "list(dG.in_degree()) == list(dG.out_degree())"
   ]
  },
  {
   "cell_type": "code",
   "execution_count": 8,
   "metadata": {},
   "outputs": [
    {
     "name": "stdout",
     "output_type": "stream",
     "text": [
      "allegro.pl\n",
      "tpc.googlesyndication.com\n",
      "tvn24.pl\n",
      "vk.com\n",
      "cda.pl\n",
      "filmweb.pl\n",
      "gazeta.pl\n",
      "google.pl\n",
      "interia.pl\n",
      "mbank.pl\n",
      "medonet.pl\n",
      "microsoft.com\n",
      "money.pl\n",
      "o2.pl\n",
      "olx.pl\n",
      "onet.pl\n",
      "reddit.com\n",
      "tvp.pl\n",
      "twitch.tv\n",
      "wiocha.pl\n",
      "wp.pl\n",
      "wykop.pl\n",
      "wyborcza.pl\n",
      "kwejk.pl\n",
      "otomoto.pl\n",
      "ceneo.pl\n",
      "gumtree.pl\n",
      "centrum24.pl\n",
      "twoje-miasto.pl\n",
      "empik.com\n",
      "fakt.pl\n",
      "se.pl\n",
      "niezalezna.pl\n",
      "rp.pl\n",
      "natemat.pl\n",
      "tokfm.pl\n",
      "polskieradio.pl\n",
      "skapiec.pl\n",
      "groupon.pl\n",
      "mediamarkt.pl\n",
      "euro.com.pl\n",
      "mall.pl\n",
      "lidl.pl\n",
      "mediaexpert.pl\n",
      "morele.net\n",
      "sport.pl\n",
      "plotek.pl\n",
      "wprost.pl\n",
      "jbzd.com.pl\n",
      "pepper.pl\n",
      "player.pl\n",
      "inpost.pl\n",
      "booking.com\n",
      "flipo.pl\n",
      "nocowanie.pl\n",
      "skyscanner.pl\n",
      "itaka.pl\n",
      "pl.tripadvisor.com\n",
      "trivago.pl\n",
      "linkedin.com\n",
      "paypal.com\n",
      "pl.pinterest.com\n",
      "tumblr.com\n",
      "praca.pl\n",
      "pracuj.pl\n",
      "goldenline.pl\n",
      "pl.indeed.com\n",
      "otodom.pl\n",
      "gry-online.pl\n",
      "lowcygier.pl\n",
      "orange.pl\n",
      "play.pl\n",
      "ipla.tv\n",
      "vod.pl\n",
      "pl.canalplus.com\n",
      "antyweb.pl\n",
      "pclab.pl\n",
      "benchmark.pl\n",
      "spidersweb.pl\n"
     ]
    }
   ],
   "source": [
    "deg_tuples = list(dG.out_degree())\n",
    "for name, deg in deg_tuples:\n",
    "    if deg != 0:\n",
    "        print(name)"
   ]
  },
  {
   "cell_type": "code",
   "execution_count": 5,
   "metadata": {},
   "outputs": [
    {
     "data": {
      "text/html": [
       "<div>\n",
       "<style scoped>\n",
       "    .dataframe tbody tr th:only-of-type {\n",
       "        vertical-align: middle;\n",
       "    }\n",
       "\n",
       "    .dataframe tbody tr th {\n",
       "        vertical-align: top;\n",
       "    }\n",
       "\n",
       "    .dataframe thead th {\n",
       "        text-align: right;\n",
       "    }\n",
       "</style>\n",
       "<table border=\"1\" class=\"dataframe\">\n",
       "  <thead>\n",
       "    <tr style=\"text-align: right;\">\n",
       "      <th></th>\n",
       "      <th>0</th>\n",
       "      <th>1</th>\n",
       "      <th>2</th>\n",
       "    </tr>\n",
       "  </thead>\n",
       "  <tbody>\n",
       "    <tr>\n",
       "      <th>0</th>\n",
       "      <td>allegro.pl</td>\n",
       "      <td>cx.atdmt.com</td>\n",
       "      <td>Facebook</td>\n",
       "    </tr>\n",
       "    <tr>\n",
       "      <th>1</th>\n",
       "      <td>allegro.pl</td>\n",
       "      <td>cm.g.doubleclick.net</td>\n",
       "      <td>Google</td>\n",
       "    </tr>\n",
       "    <tr>\n",
       "      <th>2</th>\n",
       "      <td>allegro.pl</td>\n",
       "      <td>stats.g.doubleclick.net</td>\n",
       "      <td>Google</td>\n",
       "    </tr>\n",
       "    <tr>\n",
       "      <th>3</th>\n",
       "      <td>allegro.pl</td>\n",
       "      <td>pagead2.googlesyndication.com</td>\n",
       "      <td>Google</td>\n",
       "    </tr>\n",
       "    <tr>\n",
       "      <th>4</th>\n",
       "      <td>allegro.pl</td>\n",
       "      <td>securepubads.g.doubleclick.net</td>\n",
       "      <td>Google</td>\n",
       "    </tr>\n",
       "    <tr>\n",
       "      <th>...</th>\n",
       "      <td>...</td>\n",
       "      <td>...</td>\n",
       "      <td>...</td>\n",
       "    </tr>\n",
       "    <tr>\n",
       "      <th>379</th>\n",
       "      <td>benchmark.pl</td>\n",
       "      <td>stats.g.doubleclick.net</td>\n",
       "      <td>Google</td>\n",
       "    </tr>\n",
       "    <tr>\n",
       "      <th>380</th>\n",
       "      <td>spidersweb.pl</td>\n",
       "      <td>stats.g.doubleclick.net</td>\n",
       "      <td>Google</td>\n",
       "    </tr>\n",
       "    <tr>\n",
       "      <th>381</th>\n",
       "      <td>spidersweb.pl</td>\n",
       "      <td>mc.yandex.ru</td>\n",
       "      <td>Yandex</td>\n",
       "    </tr>\n",
       "    <tr>\n",
       "      <th>382</th>\n",
       "      <td>spidersweb.pl</td>\n",
       "      <td>pagead2.googlesyndication.com</td>\n",
       "      <td>Google</td>\n",
       "    </tr>\n",
       "    <tr>\n",
       "      <th>383</th>\n",
       "      <td>spidersweb.pl</td>\n",
       "      <td>securepubads.g.doubleclick.net</td>\n",
       "      <td>Google</td>\n",
       "    </tr>\n",
       "  </tbody>\n",
       "</table>\n",
       "<p>384 rows × 3 columns</p>\n",
       "</div>"
      ],
      "text/plain": [
       "                 0                               1         2\n",
       "0       allegro.pl                    cx.atdmt.com  Facebook\n",
       "1       allegro.pl            cm.g.doubleclick.net    Google\n",
       "2       allegro.pl         stats.g.doubleclick.net    Google\n",
       "3       allegro.pl   pagead2.googlesyndication.com    Google\n",
       "4       allegro.pl  securepubads.g.doubleclick.net    Google\n",
       "..             ...                             ...       ...\n",
       "379   benchmark.pl         stats.g.doubleclick.net    Google\n",
       "380  spidersweb.pl         stats.g.doubleclick.net    Google\n",
       "381  spidersweb.pl                    mc.yandex.ru    Yandex\n",
       "382  spidersweb.pl   pagead2.googlesyndication.com    Google\n",
       "383  spidersweb.pl  securepubads.g.doubleclick.net    Google\n",
       "\n",
       "[384 rows x 3 columns]"
      ]
     },
     "execution_count": 5,
     "metadata": {},
     "output_type": "execute_result"
    }
   ],
   "source": [
    "df = pd.read_csv('./output/edgeListTrackers-Ads+Owner.csv', delimiter=';', header=None)\n",
    "df"
   ]
  },
  {
   "cell_type": "code",
   "execution_count": 7,
   "metadata": {},
   "outputs": [
    {
     "data": {
      "image/png": "[encoded data removed]",
      "text/plain": [
       "<Figure size 1080x576 with 1 Axes>"
      ]
     },
     "metadata": {
      "needs_background": "light"
     },
     "output_type": "display_data"
    }
   ],
   "source": [
    "ax = df.groupby([2])[1].count().sort_values()[-10:].plot.bar(legend=True, figsize=(15,8))\n",
    "fig = ax.get_figure()\n",
    "fig.savefig(\"./fig.pdf\")"
   ]
  },
  {
   "cell_type": "code",
   "execution_count": 42,
   "metadata": {},
   "outputs": [
    {
     "data": {
      "text/plain": [
       "2\n",
       "AGORA                             2\n",
       "Amazon.com                        1\n",
       "AppNexus                         29\n",
       "Automattic                        1\n",
       "Centro                            1\n",
       "Facebook                         14\n",
       "Google                          195\n",
       "Groupon                           1\n",
       "Indeed                            1\n",
       "Inmar                             3\n",
       "Internet Mall                     1\n",
       "Mail.Ru                           1\n",
       "Microsoft                         3\n",
       "New Relic                         9\n",
       "OLX Group                         3\n",
       "Onet                             19\n",
       "Optimizely                        1\n",
       "PayPal                            2\n",
       "Pinterest                         1\n",
       "RTB House                         9\n",
       "Rambler Internet Holding          1\n",
       "Reddit                            2\n",
       "Ringier Axel Springer Polska      6\n",
       "Skyscanner                        1\n",
       "Sovrn Holdings                    3\n",
       "TripAdvisor                       1\n",
       "Twitter                           4\n",
       "Unknown                          25\n",
       "Verizon Media                    17\n",
       "Wirtualna Polska                 13\n",
       "Yandex                            6\n",
       "YourCX                            3\n",
       "home.pl                           5\n",
       "Name: 1, dtype: int64"
      ]
     },
     "execution_count": 42,
     "metadata": {},
     "output_type": "execute_result"
    }
   ],
   "source": [
    "df.groupby([2])[1].count()"
   ]
  },
  {
   "cell_type": "code",
   "execution_count": 41,
   "metadata": {},
   "outputs": [
    {
     "data": {
      "text/plain": [
       "384"
      ]
     },
     "execution_count": 41,
     "metadata": {},
     "output_type": "execute_result"
    }
   ],
   "source": [
    "df.groupby([2])[1].count().sum()"
   ]
  },
  {
   "cell_type": "code",
   "execution_count": 43,
   "metadata": {},
   "outputs": [
    {
     "data": {
      "text/plain": [
       "0.5078125"
      ]
     },
     "execution_count": 43,
     "metadata": {},
     "output_type": "execute_result"
    }
   ],
   "source": [
    "195/384"
   ]
  },
  {
   "cell_type": "code",
   "execution_count": 45,
   "metadata": {},
   "outputs": [
    {
     "data": {
      "text/plain": [
       "0.07552083333333333"
      ]
     },
     "execution_count": 45,
     "metadata": {},
     "output_type": "execute_result"
    }
   ],
   "source": [
    "29/384"
   ]
  },
  {
   "cell_type": "code",
   "execution_count": null,
   "metadata": {},
   "outputs": [],
   "source": []
  }
 ],
 "metadata": {
  "kernelspec": {
   "display_name": "Python 3",
   "language": "python",
   "name": "python3"
  },
  "language_info": {
   "codemirror_mode": {
    "name": "ipython",
    "version": 3
   },
   "file_extension": ".py",
   "mimetype": "text/x-python",
   "name": "python",
   "nbconvert_exporter": "python",
   "pygments_lexer": "ipython3",
   "version": "3.7.7"
  }
 },
 "nbformat": 4,
 "nbformat_minor": 4
}
